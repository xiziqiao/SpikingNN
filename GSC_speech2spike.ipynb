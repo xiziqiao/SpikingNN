{
  "nbformat": 4,
  "nbformat_minor": 0,
  "metadata": {
    "colab": {
      "provenance": [],
      "authorship_tag": "ABX9TyMVJbdjxl1w2xNUPL5RQ1nR",
      "include_colab_link": true
    },
    "kernelspec": {
      "name": "python3",
      "display_name": "Python 3"
    },
    "language_info": {
      "name": "python"
    }
  },
  "cells": [
    {
      "cell_type": "markdown",
      "metadata": {
        "id": "view-in-github",
        "colab_type": "text"
      },
      "source": [
        "<a href=\"https://colab.research.google.com/github/xiziqiao/SpikingNN/blob/main/GSC_speech2spike.ipynb\" target=\"_parent\"><img src=\"https://colab.research.google.com/assets/colab-badge.svg\" alt=\"Open In Colab\"/></a>"
      ]
    },
    {
      "cell_type": "code",
      "execution_count": 3,
      "metadata": {
        "colab": {
          "base_uri": "https://localhost:8080/"
        },
        "id": "iuBpq2qWjKl8",
        "outputId": "26785170-274e-44fa-dbde-231870efd1a3"
      },
      "outputs": [
        {
          "output_type": "stream",
          "name": "stdout",
          "text": [
            "Collecting speech2spikes\n",
            "  Downloading speech2spikes-1.0.0-py3-none-any.whl (4.7 kB)\n",
            "Requirement already satisfied: torch<3.0.0,>=2.0.1 in /usr/local/lib/python3.10/dist-packages (from speech2spikes) (2.1.0+cu121)\n",
            "Requirement already satisfied: torchaudio<3.0.0,>=2.0.2 in /usr/local/lib/python3.10/dist-packages (from speech2spikes) (2.1.0+cu121)\n",
            "Requirement already satisfied: filelock in /usr/local/lib/python3.10/dist-packages (from torch<3.0.0,>=2.0.1->speech2spikes) (3.13.1)\n",
            "Requirement already satisfied: typing-extensions in /usr/local/lib/python3.10/dist-packages (from torch<3.0.0,>=2.0.1->speech2spikes) (4.5.0)\n",
            "Requirement already satisfied: sympy in /usr/local/lib/python3.10/dist-packages (from torch<3.0.0,>=2.0.1->speech2spikes) (1.12)\n",
            "Requirement already satisfied: networkx in /usr/local/lib/python3.10/dist-packages (from torch<3.0.0,>=2.0.1->speech2spikes) (3.2.1)\n",
            "Requirement already satisfied: jinja2 in /usr/local/lib/python3.10/dist-packages (from torch<3.0.0,>=2.0.1->speech2spikes) (3.1.2)\n",
            "Requirement already satisfied: fsspec in /usr/local/lib/python3.10/dist-packages (from torch<3.0.0,>=2.0.1->speech2spikes) (2023.6.0)\n",
            "Requirement already satisfied: triton==2.1.0 in /usr/local/lib/python3.10/dist-packages (from torch<3.0.0,>=2.0.1->speech2spikes) (2.1.0)\n",
            "Requirement already satisfied: MarkupSafe>=2.0 in /usr/local/lib/python3.10/dist-packages (from jinja2->torch<3.0.0,>=2.0.1->speech2spikes) (2.1.3)\n",
            "Requirement already satisfied: mpmath>=0.19 in /usr/local/lib/python3.10/dist-packages (from sympy->torch<3.0.0,>=2.0.1->speech2spikes) (1.3.0)\n",
            "Installing collected packages: speech2spikes\n",
            "Successfully installed speech2spikes-1.0.0\n"
          ]
        }
      ],
      "source": [
        "pip install speech2spikes"
      ]
    },
    {
      "cell_type": "code",
      "source": [
        "# Importing necessary libraries\n",
        "import torchaudio\n",
        "import torch\n",
        "import os\n",
        "from torch.utils.data import Dataset"
      ],
      "metadata": {
        "id": "QWMguur_kP_K"
      },
      "execution_count": 4,
      "outputs": []
    },
    {
      "cell_type": "code",
      "source": [
        "from speech2spikes import S2S"
      ],
      "metadata": {
        "id": "2OQB4vvujcJb"
      },
      "execution_count": 5,
      "outputs": []
    },
    {
      "cell_type": "code",
      "source": [
        "# URL for the Google Speech Commands dataset\n",
        "gsc_url = 'http://download.tensorflow.org/data/speech_commands_v0.02.tar.gz'"
      ],
      "metadata": {
        "id": "40nro5eCjfxL"
      },
      "execution_count": 6,
      "outputs": []
    },
    {
      "cell_type": "code",
      "source": [
        "# Destination path\n",
        "destination_path = '/content/speech_commands_v0.02.tar.gz'\n",
        "\n",
        "# Download the dataset (this might take a little while)\n",
        "!wget {gsc_url} -O {destination_path}\n",
        "\n",
        "# Extract the dataset\n",
        "!mkdir '/content/gsc_data'\n",
        "!tar -xf {destination_path} -C '/content/gsc_data'"
      ],
      "metadata": {
        "colab": {
          "base_uri": "https://localhost:8080/"
        },
        "id": "i0rVIsgXjgKc",
        "outputId": "f6730762-ab4e-4954-ebd9-92c284613dbe"
      },
      "execution_count": 7,
      "outputs": [
        {
          "output_type": "stream",
          "name": "stdout",
          "text": [
            "--2023-12-31 20:10:19--  http://download.tensorflow.org/data/speech_commands_v0.02.tar.gz\n",
            "Resolving download.tensorflow.org (download.tensorflow.org)... 173.194.69.207, 173.194.79.207, 108.177.96.207, ...\n",
            "Connecting to download.tensorflow.org (download.tensorflow.org)|173.194.69.207|:80... connected.\n",
            "HTTP request sent, awaiting response... 200 OK\n",
            "Length: 2428923189 (2.3G) [application/gzip]\n",
            "Saving to: ‘/content/speech_commands_v0.02.tar.gz’\n",
            "\n",
            "/content/speech_com 100%[===================>]   2.26G  42.1MB/s    in 58s     \n",
            "\n",
            "2023-12-31 20:11:16 (40.3 MB/s) - ‘/content/speech_commands_v0.02.tar.gz’ saved [2428923189/2428923189]\n",
            "\n"
          ]
        }
      ]
    },
    {
      "cell_type": "code",
      "source": [
        "!ls /content/gsc_data\n"
      ],
      "metadata": {
        "colab": {
          "base_uri": "https://localhost:8080/"
        },
        "id": "mgRHU8nOoaah",
        "outputId": "f36821af-19d9-4807-f93c-36f7f757dca9"
      },
      "execution_count": 8,
      "outputs": [
        {
          "output_type": "stream",
          "name": "stdout",
          "text": [
            "_background_noise_  down     go       marvin  README.md  testing_list.txt     visual\n",
            "backward\t    eight    happy    nine    right\t three\t\t      wow\n",
            "bed\t\t    five     house    no      seven\t tree\t\t      yes\n",
            "bird\t\t    follow   learn    off     sheila\t two\t\t      zero\n",
            "cat\t\t    forward  left     on      six\t up\n",
            "dog\t\t    four     LICENSE  one     stop\t validation_list.txt\n"
          ]
        }
      ]
    },
    {
      "cell_type": "code",
      "source": [
        "!ls /content/gsc_data/backward/"
      ],
      "metadata": {
        "colab": {
          "base_uri": "https://localhost:8080/"
        },
        "id": "xfeQ6Ji7ohLd",
        "outputId": "39129b2f-c282-4cee-8a9c-38c65f5c4dc6"
      },
      "execution_count": 9,
      "outputs": [
        {
          "output_type": "stream",
          "name": "stdout",
          "text": [
            "0165e0e8_nohash_0.wav\t3ce4910e_nohash_0.wav  87070229_nohash_3.wav   c50f55b8_nohash_11.wav\n",
            "017c4098_nohash_0.wav\t3ce4910e_nohash_1.wav  8769c34c_nohash_0.wav   c50f55b8_nohash_12.wav\n",
            "017c4098_nohash_1.wav\t3ce4910e_nohash_2.wav  8769c34c_nohash_1.wav   c50f55b8_nohash_13.wav\n",
            "017c4098_nohash_2.wav\t3ce4910e_nohash_3.wav  8769c34c_nohash_2.wav   c50f55b8_nohash_14.wav\n",
            "017c4098_nohash_3.wav\t3d794813_nohash_0.wav  8769c34c_nohash_3.wav   c50f55b8_nohash_15.wav\n",
            "017c4098_nohash_4.wav\t3d794813_nohash_1.wav  878befa7_nohash_0.wav   c50f55b8_nohash_16.wav\n",
            "02ade946_nohash_0.wav\t3d794813_nohash_2.wav  878befa7_nohash_1.wav   c50f55b8_nohash_17.wav\n",
            "02ade946_nohash_1.wav\t3d794813_nohash_3.wav  878befa7_nohash_2.wav   c50f55b8_nohash_18.wav\n",
            "02ade946_nohash_2.wav\t3d794813_nohash_4.wav  878befa7_nohash_3.wav   c50f55b8_nohash_19.wav\n",
            "02ade946_nohash_3.wav\t3d86b69a_nohash_0.wav  879a2b38_nohash_0.wav   c50f55b8_nohash_1.wav\n",
            "02ade946_nohash_4.wav\t3d86b69a_nohash_1.wav  879a2b38_nohash_1.wav   c50f55b8_nohash_20.wav\n",
            "03401e93_nohash_0.wav\t3d86b69a_nohash_2.wav  879a2b38_nohash_2.wav   c50f55b8_nohash_21.wav\n",
            "03401e93_nohash_1.wav\t3d86b69a_nohash_3.wav  879a2b38_nohash_3.wav   c50f55b8_nohash_22.wav\n",
            "042a8dde_nohash_0.wav\t3d9bbe2d_nohash_0.wav  879a2b38_nohash_4.wav   c50f55b8_nohash_2.wav\n",
            "042a8dde_nohash_1.wav\t3d9bbe2d_nohash_1.wav  87d5e978_nohash_0.wav   c50f55b8_nohash_3.wav\n",
            "042a8dde_nohash_2.wav\t3d9bbe2d_nohash_2.wav  87d5e978_nohash_1.wav   c50f55b8_nohash_4.wav\n",
            "042a8dde_nohash_3.wav\t3d9bbe2d_nohash_3.wav  87d5e978_nohash_2.wav   c50f55b8_nohash_5.wav\n",
            "050170cb_nohash_0.wav\t3d9bbe2d_nohash_4.wav  87d5e978_nohash_3.wav   c50f55b8_nohash_6.wav\n",
            "050170cb_nohash_1.wav\t3e6e5b0f_nohash_0.wav  87d5e978_nohash_4.wav   c50f55b8_nohash_7.wav\n",
            "050170cb_nohash_2.wav\t3f45a0cf_nohash_0.wav  88b7c5fa_nohash_0.wav   c50f55b8_nohash_8.wav\n",
            "050170cb_nohash_3.wav\t3f45a0cf_nohash_1.wav  88d009d2_nohash_0.wav   c50f55b8_nohash_9.wav\n",
            "050170cb_nohash_4.wav\t3f45a0cf_nohash_2.wav  88d009d2_nohash_1.wav   c53e1048_nohash_0.wav\n",
            "0585b66d_nohash_0.wav\t40738a2d_nohash_0.wav  88e730cd_nohash_0.wav   c5a1e46c_nohash_0.wav\n",
            "0585b66d_nohash_1.wav\t40738a2d_nohash_1.wav  88e730cd_nohash_1.wav   c5a1e46c_nohash_1.wav\n",
            "0585b66d_nohash_2.wav\t40738a2d_nohash_2.wav  890cc926_nohash_0.wav   c5a1e46c_nohash_2.wav\n",
            "0585b66d_nohash_3.wav\t42398aab_nohash_0.wav  890cc926_nohash_1.wav   c5a1e46c_nohash_3.wav\n",
            "0585b66d_nohash_4.wav\t42398aab_nohash_1.wav  890cc926_nohash_2.wav   c633a455_nohash_0.wav\n",
            "067f61e2_nohash_0.wav\t42a99aec_nohash_0.wav  890cc926_nohash_3.wav   c678e0b3_nohash_0.wav\n",
            "067f61e2_nohash_1.wav\t42a99aec_nohash_1.wav  890cc926_nohash_4.wav   c7dc7278_nohash_0.wav\n",
            "067f61e2_nohash_2.wav\t42a99aec_nohash_2.wav  893705bb_nohash_0.wav   c7dc7278_nohash_1.wav\n",
            "067f61e2_nohash_3.wav\t42a99aec_nohash_3.wav  893705bb_nohash_1.wav   c7dc7278_nohash_2.wav\n",
            "067f61e2_nohash_4.wav\t42f81601_nohash_0.wav  893705bb_nohash_2.wav   c7dc7278_nohash_3.wav\n",
            "06f6c194_nohash_0.wav\t42f81601_nohash_1.wav  893705bb_nohash_3.wav   c91dbe66_nohash_0.wav\n",
            "06f6c194_nohash_1.wav\t42f81601_nohash_2.wav  893705bb_nohash_4.wav   c98bbbd3_nohash_0.wav\n",
            "06f6c194_nohash_2.wav\t42f81601_nohash_3.wav  893705bb_nohash_5.wav   c98bbbd3_nohash_1.wav\n",
            "06f6c194_nohash_3.wav\t42f81601_nohash_4.wav  893705bb_nohash_6.wav   c98bbbd3_nohash_2.wav\n",
            "06f6c194_nohash_4.wav\t4340d369_nohash_0.wav  893705bb_nohash_7.wav   c9b5ff26_nohash_0.wav\n",
            "08ab231c_nohash_0.wav\t435695e3_nohash_0.wav  893705bb_nohash_8.wav   c9b5ff26_nohash_1.wav\n",
            "08ab231c_nohash_1.wav\t435695e3_nohash_1.wav  893b3c11_nohash_0.wav   c9b5ff26_nohash_2.wav\n",
            "08ab231c_nohash_2.wav\t435695e3_nohash_2.wav  89947bd7_nohash_0.wav   c9b5ff26_nohash_3.wav\n",
            "08ab231c_nohash_3.wav\t435695e3_nohash_3.wav  89947bd7_nohash_1.wav   c9b5ff26_nohash_4.wav\n",
            "08ab231c_nohash_4.wav\t45692b02_nohash_0.wav  89947bd7_nohash_2.wav   ca4912b6_nohash_0.wav\n",
            "0a2b400e_nohash_0.wav\t45692b02_nohash_1.wav  8b25410a_nohash_0.wav   ca4912b6_nohash_1.wav\n",
            "0a2b400e_nohash_1.wav\t45692b02_nohash_2.wav  8b25410a_nohash_1.wav   ca4912b6_nohash_2.wav\n",
            "0a2b400e_nohash_2.wav\t460209ac_nohash_0.wav  8b25410a_nohash_2.wav   ca4912b6_nohash_3.wav\n",
            "0a2b400e_nohash_3.wav\t460209ac_nohash_1.wav  8b25410a_nohash_3.wav   ca4912b6_nohash_4.wav\n",
            "0a2b400e_nohash_4.wav\t460209ac_nohash_2.wav  8b25410a_nohash_4.wav   ca4d5368_nohash_0.wav\n",
            "0a396ff2_nohash_0.wav\t460209ac_nohash_3.wav  8b367d88_nohash_0.wav   ca4d5368_nohash_1.wav\n",
            "0a5636ca_nohash_0.wav\t472b8045_nohash_0.wav  8d5e1dc0_nohash_0.wav   ca4d5368_nohash_2.wav\n",
            "0b7ee1a0_nohash_0.wav\t472b8045_nohash_1.wav  8dc18a75_nohash_0.wav   cb62dbf1_nohash_0.wav\n",
            "0b7ee1a0_nohash_1.wav\t472b8045_nohash_2.wav  8dc18a75_nohash_1.wav   cb62dbf1_nohash_1.wav\n",
            "0b7ee1a0_nohash_2.wav\t472b8045_nohash_3.wav  8dc18a75_nohash_2.wav   cb62dbf1_nohash_2.wav\n",
            "0b7ee1a0_nohash_3.wav\t472b8045_nohash_4.wav  8dc18a75_nohash_3.wav   cb62dbf1_nohash_3.wav\n",
            "0b7ee1a0_nohash_4.wav\t4995d875_nohash_0.wav  8dc18a75_nohash_4.wav   cb62dbf1_nohash_4.wav\n",
            "0ba018fc_nohash_0.wav\t4995d875_nohash_1.wav  8e080ece_nohash_0.wav   cb72dfb6_nohash_0.wav\n",
            "0ba018fc_nohash_1.wav\t4995d875_nohash_2.wav  8e523821_nohash_0.wav   cb72dfb6_nohash_1.wav\n",
            "0ba018fc_nohash_2.wav\t4c3cddb8_nohash_0.wav  8e523821_nohash_1.wav   cb72dfb6_nohash_2.wav\n",
            "0ba018fc_nohash_3.wav\t4c3cddb8_nohash_1.wav  8e523821_nohash_2.wav   cb72dfb6_nohash_3.wav\n",
            "0c540988_nohash_0.wav\t4c3cddb8_nohash_2.wav  8e523821_nohash_3.wav   cb72dfb6_nohash_4.wav\n",
            "0cb74144_nohash_0.wav\t4c3cddb8_nohash_3.wav  8e523821_nohash_4.wav   cc3b5b62_nohash_0.wav\n",
            "0cb74144_nohash_1.wav\t4c6167ca_nohash_0.wav  8ea6dec6_nohash_0.wav   cc3b5b62_nohash_1.wav\n",
            "0cb74144_nohash_2.wav\t4c6167ca_nohash_1.wav  8f447c3e_nohash_0.wav   cc3b5b62_nohash_2.wav\n",
            "0cb74144_nohash_3.wav\t4c6944d6_nohash_0.wav  8f447c3e_nohash_1.wav   cc3b5b62_nohash_3.wav\n",
            "0d6d7360_nohash_0.wav\t4c6944d6_nohash_1.wav  8fe67225_nohash_0.wav   cc4f9250_nohash_0.wav\n",
            "0d6d7360_nohash_1.wav\t4c6944d6_nohash_2.wav  8fe67225_nohash_1.wav   cc4f9250_nohash_1.wav\n",
            "0d6d7360_nohash_2.wav\t4c6944d6_nohash_3.wav  8fe67225_nohash_2.wav   cc4f9250_nohash_2.wav\n",
            "0d6d7360_nohash_3.wav\t4c6944d6_nohash_4.wav  8fe67225_nohash_3.wav   cc4f9250_nohash_3.wav\n",
            "0d6d7360_nohash_4.wav\t4c6944d6_nohash_5.wav  8fe67225_nohash_4.wav   cc4f9250_nohash_4.wav\n",
            "0d82fd99_nohash_0.wav\t4cee0c60_nohash_0.wav  90735d8b_nohash_0.wav   cc8b3228_nohash_0.wav\n",
            "0d82fd99_nohash_1.wav\t4cee0c60_nohash_1.wav  90e72357_nohash_0.wav   cc8b3228_nohash_1.wav\n",
            "0d82fd99_nohash_2.wav\t4cee0c60_nohash_2.wav  90e72357_nohash_1.wav   cc8b3228_nohash_2.wav\n",
            "0d82fd99_nohash_3.wav\t4d763ca4_nohash_0.wav  90e72357_nohash_2.wav   cc8b3228_nohash_3.wav\n",
            "0d85a428_nohash_0.wav\t4d763ca4_nohash_1.wav  90e72357_nohash_3.wav   ccca5655_nohash_0.wav\n",
            "0d90d8e1_nohash_0.wav\t4e61bf96_nohash_0.wav  9151f184_nohash_0.wav   ccca5655_nohash_1.wav\n",
            "0d90d8e1_nohash_1.wav\t4e61bf96_nohash_1.wav  9151f184_nohash_1.wav   ccca5655_nohash_2.wav\n",
            "0d90d8e1_nohash_2.wav\t4e6902d0_nohash_0.wav  9151f184_nohash_2.wav   ccca5655_nohash_3.wav\n",
            "0d90d8e1_nohash_3.wav\t4e6902d0_nohash_1.wav  9151f184_nohash_3.wav   ccca5655_nohash_4.wav\n",
            "0e6e36c9_nohash_0.wav\t4e6902d0_nohash_2.wav  9151f184_nohash_4.wav   cd671b5f_nohash_0.wav\n",
            "0e6e36c9_nohash_1.wav\t4e6902d0_nohash_3.wav  91b03183_nohash_0.wav   cd671b5f_nohash_1.wav\n",
            "0e6e36c9_nohash_2.wav\t4e6902d0_nohash_4.wav  91b03183_nohash_1.wav   cd671b5f_nohash_2.wav\n",
            "0e6e36c9_nohash_3.wav\t4e99c1b7_nohash_0.wav  91b03183_nohash_2.wav   cd671b5f_nohash_3.wav\n",
            "0e6e36c9_nohash_4.wav\t4e99c1b7_nohash_1.wav  91ffb786_nohash_0.wav   cd671b5f_nohash_4.wav\n",
            "0e8ec1cb_nohash_0.wav\t4f558007_nohash_0.wav  91ffb786_nohash_1.wav   cdee383b_nohash_0.wav\n",
            "0ea9c8ce_nohash_0.wav\t4fce7686_nohash_0.wav  92521ccc_nohash_0.wav   cdee383b_nohash_1.wav\n",
            "0ea9c8ce_nohash_1.wav\t4fce7686_nohash_1.wav  9307154f_nohash_0.wav   cdee383b_nohash_2.wav\n",
            "0ea9c8ce_nohash_2.wav\t4fd1443e_nohash_0.wav  9448c397_nohash_0.wav   cdee383b_nohash_3.wav\n",
            "0ea9c8ce_nohash_3.wav\t4fd1443e_nohash_1.wav  9448c397_nohash_1.wav   cdee383b_nohash_4.wav\n",
            "0ea9c8ce_nohash_4.wav\t4fd1443e_nohash_2.wav  9448c397_nohash_2.wav   ce0cb033_nohash_0.wav\n",
            "0f46028a_nohash_0.wav\t4fd1443e_nohash_3.wav  9448c397_nohash_3.wav   ce0cb033_nohash_1.wav\n",
            "0f46028a_nohash_1.wav\t4fd1443e_nohash_4.wav  9448c397_nohash_4.wav   ce0cb033_nohash_2.wav\n",
            "0f46028a_nohash_2.wav\t5087f68b_nohash_0.wav  94d370bf_nohash_0.wav   ce0cb033_nohash_3.wav\n",
            "0f46028a_nohash_3.wav\t508e30ee_nohash_0.wav  94d370bf_nohash_1.wav   ceef6d96_nohash_0.wav\n",
            "0f46028a_nohash_4.wav\t508e30ee_nohash_1.wav  94d370bf_nohash_2.wav   ceef6d96_nohash_1.wav\n",
            "0f7266cf_nohash_0.wav\t508e30ee_nohash_2.wav  94d370bf_nohash_3.wav   ceef6d96_nohash_2.wav\n",
            "0f7266cf_nohash_1.wav\t508e30ee_nohash_3.wav  95fd5a0f_nohash_0.wav   ceef6d96_nohash_3.wav\n",
            "0f7266cf_nohash_2.wav\t508e30ee_nohash_4.wav  95fd5a0f_nohash_1.wav   ceef6d96_nohash_4.wav\n",
            "0f7266cf_nohash_3.wav\t513aeddf_nohash_0.wav  95fd5a0f_nohash_2.wav   cfbedff9_nohash_0.wav\n",
            "113b3fbc_nohash_0.wav\t513aeddf_nohash_1.wav  95fd5a0f_nohash_3.wav   cfbedff9_nohash_1.wav\n",
            "113b3fbc_nohash_1.wav\t513aeddf_nohash_2.wav  95fd5a0f_nohash_4.wav   cfbedff9_nohash_2.wav\n",
            "113b3fbc_nohash_2.wav\t513aeddf_nohash_3.wav  95fd5a0f_nohash_5.wav   cfbedff9_nohash_3.wav\n",
            "113b3fbc_nohash_3.wav\t5170b77f_nohash_0.wav  967ad5ef_nohash_0.wav   d070ea86_nohash_0.wav\n",
            "113b3fbc_nohash_4.wav\t5170b77f_nohash_1.wav  96d8bb6f_nohash_0.wav   d070ea86_nohash_1.wav\n",
            "131e738d_nohash_0.wav\t5170b77f_nohash_2.wav  96d8bb6f_nohash_1.wav   d070ea86_nohash_2.wav\n",
            "131e738d_nohash_1.wav\t5170b77f_nohash_3.wav  96d8bb6f_nohash_2.wav   d070ea86_nohash_3.wav\n",
            "131e738d_nohash_2.wav\t5170b77f_nohash_4.wav  96d8bb6f_nohash_3.wav   d070ea86_nohash_4.wav\n",
            "131e738d_nohash_3.wav\t51c5601d_nohash_0.wav  96d8bb6f_nohash_4.wav   d0745d72_nohash_0.wav\n",
            "131e738d_nohash_4.wav\t51c5601d_nohash_1.wav  978240e1_nohash_0.wav   d0745d72_nohash_1.wav\n",
            "13a93b33_nohash_0.wav\t51c5601d_nohash_2.wav  978240e1_nohash_1.wav   d0fb9ff4_nohash_0.wav\n",
            "13dce503_nohash_0.wav\t51c5601d_nohash_3.wav  978240e1_nohash_2.wav   d1526c4e_nohash_0.wav\n",
            "13dce503_nohash_1.wav\t51c5601d_nohash_4.wav  978240e1_nohash_3.wav   d1526c4e_nohash_1.wav\n",
            "13dce503_nohash_2.wav\t51f7a034_nohash_0.wav  978240e1_nohash_4.wav   d1dd03ed_nohash_0.wav\n",
            "1474273a_nohash_0.wav\t51f7a034_nohash_1.wav  983577be_nohash_0.wav   d1dd03ed_nohash_1.wav\n",
            "1474273a_nohash_1.wav\t51f7a034_nohash_2.wav  98ea0818_nohash_0.wav   d1dd03ed_nohash_2.wav\n",
            "1496195a_nohash_0.wav\t51f7a034_nohash_3.wav  98ea0818_nohash_1.wav   d1dd03ed_nohash_3.wav\n",
            "1496195a_nohash_1.wav\t51f7a034_nohash_4.wav  98ea0818_nohash_2.wav   d1dd03ed_nohash_4.wav\n",
            "1496195a_nohash_2.wav\t52162b51_nohash_0.wav  98ea0818_nohash_3.wav   d21fd169_nohash_0.wav\n",
            "1496195a_nohash_3.wav\t525eaa62_nohash_0.wav  98ea0818_nohash_4.wav   d21fd169_nohash_1.wav\n",
            "14c7b073_nohash_0.wav\t525eaa62_nohash_1.wav  98ea0818_nohash_5.wav   d21fd169_nohash_2.wav\n",
            "14c7b073_nohash_1.wav\t525eaa62_nohash_2.wav  9a2e5b3c_nohash_0.wav   d21fd169_nohash_3.wav\n",
            "14c7b073_nohash_2.wav\t525eaa62_nohash_3.wav  9a76f8c3_nohash_0.wav   d21fd169_nohash_4.wav\n",
            "14c7b073_nohash_3.wav\t525eaa62_nohash_4.wav  9a76f8c3_nohash_1.wav   d264f7b6_nohash_0.wav\n",
            "14c7b073_nohash_4.wav\t542f38a2_nohash_0.wav  9a76f8c3_nohash_2.wav   d264f7b6_nohash_1.wav\n",
            "1589451d_nohash_0.wav\t542f38a2_nohash_1.wav  9a76f8c3_nohash_3.wav   d264f7b6_nohash_2.wav\n",
            "1589451d_nohash_1.wav\t54ad8f22_nohash_0.wav  9a76f8c3_nohash_4.wav   d264f7b6_nohash_3.wav\n",
            "15dd287d_nohash_0.wav\t54ad8f22_nohash_1.wav  9b02d503_nohash_0.wav   d3831f6a_nohash_0.wav\n",
            "15dd287d_nohash_1.wav\t54ad8f22_nohash_2.wav  9b02d503_nohash_1.wav   d3831f6a_nohash_1.wav\n",
            "15dd287d_nohash_2.wav\t54ad8f22_nohash_3.wav  9b02d503_nohash_2.wav   d3831f6a_nohash_2.wav\n",
            "15dd287d_nohash_3.wav\t54aecbd5_nohash_0.wav  9b02d503_nohash_3.wav   d3831f6a_nohash_3.wav\n",
            "15dd287d_nohash_4.wav\t54aecbd5_nohash_1.wav  9b8a7439_nohash_0.wav   d394ef8e_nohash_0.wav\n",
            "171edea9_nohash_0.wav\t54aecbd5_nohash_2.wav  9b8a7439_nohash_1.wav   d394ef8e_nohash_1.wav\n",
            "171edea9_nohash_1.wav\t54aecbd5_nohash_3.wav  9b8a7439_nohash_2.wav   d394ef8e_nohash_2.wav\n",
            "171edea9_nohash_2.wav\t559bc36a_nohash_0.wav  9b8a7439_nohash_3.wav   d394ef8e_nohash_3.wav\n",
            "171edea9_nohash_3.wav\t559bc36a_nohash_1.wav  9b8a7439_nohash_4.wav   d394ef8e_nohash_4.wav\n",
            "171edea9_nohash_4.wav\t559bc36a_nohash_2.wav  9be15e93_nohash_0.wav   d3d8fcd0_nohash_0.wav\n",
            "189cbabe_nohash_0.wav\t55feffd5_nohash_0.wav  9be15e93_nohash_1.wav   d3d8fcd0_nohash_1.wav\n",
            "189cbabe_nohash_1.wav\t57152045_nohash_0.wav  9be15e93_nohash_2.wav   d4dddb92_nohash_0.wav\n",
            "189cbabe_nohash_2.wav\t57152045_nohash_1.wav  9be15e93_nohash_3.wav   d4dddb92_nohash_1.wav\n",
            "189cbabe_nohash_3.wav\t57152045_nohash_2.wav  9bfd6a9d_nohash_0.wav   d4dddb92_nohash_2.wav\n",
            "189cbabe_nohash_4.wav\t57152045_nohash_3.wav  9e92ef0c_nohash_0.wav   d4dddb92_nohash_3.wav\n",
            "18d84076_nohash_0.wav\t57152045_nohash_4.wav  9f93e408_nohash_0.wav   d5b963aa_nohash_0.wav\n",
            "18e910f4_nohash_0.wav\t57152045_nohash_5.wav  9f93e408_nohash_1.wav   d5b963aa_nohash_1.wav\n",
            "18e910f4_nohash_1.wav\t5769c5ab_nohash_0.wav  9f93e408_nohash_2.wav   d5b963aa_nohash_2.wav\n",
            "18e910f4_nohash_2.wav\t5769c5ab_nohash_1.wav  9f93e408_nohash_3.wav   d5b963aa_nohash_3.wav\n",
            "18e910f4_nohash_3.wav\t5769c5ab_nohash_2.wav  9fa86a74_nohash_0.wav   d5b963aa_nohash_4.wav\n",
            "18f8afd5_nohash_0.wav\t5769c5ab_nohash_3.wav  9fa86a74_nohash_1.wav   d962e5ac_nohash_0.wav\n",
            "18f8afd5_nohash_1.wav\t5769c5ab_nohash_4.wav  9fac5701_nohash_0.wav   d962e5ac_nohash_1.wav\n",
            "18f8afd5_nohash_2.wav\t578d3efb_nohash_0.wav  9fac5701_nohash_1.wav   d962e5ac_nohash_2.wav\n",
            "18f8afd5_nohash_3.wav\t578d3efb_nohash_1.wav  9fac5701_nohash_2.wav   d962e5ac_nohash_3.wav\n",
            "18f8afd5_nohash_4.wav\t578d3efb_nohash_2.wav  9fac5701_nohash_3.wav   d962e5ac_nohash_4.wav\n",
            "18ffa72d_nohash_0.wav\t578d3efb_nohash_3.wav  9fac5701_nohash_4.wav   d9aa8c90_nohash_0.wav\n",
            "195c120a_nohash_0.wav\t578d3efb_nohash_4.wav  a045368c_nohash_0.wav   d9aa8c90_nohash_1.wav\n",
            "195c120a_nohash_1.wav\t5a5721f8_nohash_0.wav  a045368c_nohash_1.wav   d9aa8c90_nohash_2.wav\n",
            "195c120a_nohash_2.wav\t5a5721f8_nohash_1.wav  a045368c_nohash_2.wav   d9aa8c90_nohash_3.wav\n",
            "1970b130_nohash_0.wav\t5a5721f8_nohash_2.wav  a045368c_nohash_3.wav   d9aa8c90_nohash_4.wav\n",
            "1970b130_nohash_1.wav\t5a5721f8_nohash_3.wav  a045368c_nohash_4.wav   da040491_nohash_0.wav\n",
            "19a1e5c7_nohash_0.wav\t5a5721f8_nohash_4.wav  a04817c2_nohash_0.wav   da040491_nohash_1.wav\n",
            "1a0f9c63_nohash_0.wav\t5a98d407_nohash_0.wav  a04817c2_nohash_1.wav   da040491_nohash_2.wav\n",
            "1a0f9c63_nohash_1.wav\t5a98d407_nohash_1.wav  a04817c2_nohash_2.wav   da040491_nohash_3.wav\n",
            "1a73dcd1_nohash_0.wav\t5a98d407_nohash_2.wav  a04817c2_nohash_3.wav   da040491_nohash_4.wav\n",
            "1a994c9f_nohash_0.wav\t5a98d407_nohash_3.wav  a04817c2_nohash_4.wav   da93deb7_nohash_0.wav\n",
            "1a994c9f_nohash_1.wav\t5a98d407_nohash_4.wav  a05a90c1_nohash_0.wav   dae01802_nohash_0.wav\n",
            "1a994c9f_nohash_2.wav\t5b32733e_nohash_0.wav  a05a90c1_nohash_1.wav   dae01802_nohash_1.wav\n",
            "1a994c9f_nohash_3.wav\t5bf1f1cb_nohash_0.wav  a05a90c1_nohash_2.wav   dae01802_nohash_2.wav\n",
            "1a994c9f_nohash_4.wav\t5c43ac9f_nohash_0.wav  a05a90c1_nohash_3.wav   dae01802_nohash_3.wav\n",
            "1acc97de_nohash_0.wav\t5cf1ecce_nohash_0.wav  a05a90c1_nohash_4.wav   db24628d_nohash_0.wav\n",
            "1acc97de_nohash_1.wav\t5cf1ecce_nohash_1.wav  a16013b7_nohash_0.wav   db24628d_nohash_1.wav\n",
            "1acc97de_nohash_2.wav\t5cf1ecce_nohash_2.wav  a16013b7_nohash_1.wav   db24628d_nohash_2.wav\n",
            "1acc97de_nohash_3.wav\t5cf1ecce_nohash_3.wav  a16013b7_nohash_2.wav   db24628d_nohash_3.wav\n",
            "1b18600d_nohash_0.wav\t5d4e3bb8_nohash_0.wav  a16013b7_nohash_3.wav   db24628d_nohash_4.wav\n",
            "1b18600d_nohash_1.wav\t5d4e3bb8_nohash_1.wav  a16013b7_nohash_4.wav   dd664d92_nohash_0.wav\n",
            "1b42b551_nohash_0.wav\t5ebc1cda_nohash_0.wav  a1cf7fd8_nohash_0.wav   ddedba85_nohash_0.wav\n",
            "1b42b551_nohash_1.wav\t5ebc1cda_nohash_1.wav  a1cf7fd8_nohash_1.wav   ddedba85_nohash_1.wav\n",
            "1b42b551_nohash_2.wav\t5ebc1cda_nohash_2.wav  a1e71565_nohash_0.wav   ddedba85_nohash_2.wav\n",
            "1b42b551_nohash_3.wav\t5ebc1cda_nohash_3.wav  a1e71565_nohash_1.wav   de3fe344_nohash_0.wav\n",
            "1b42b551_nohash_4.wav\t5ebc1cda_nohash_4.wav  a1e71565_nohash_2.wav   de3fe344_nohash_1.wav\n",
            "1b627376_nohash_0.wav\t5ebc1cda_nohash_5.wav  a1e71565_nohash_3.wav   de3fe344_nohash_2.wav\n",
            "1c76f5f3_nohash_0.wav\t5ebc1cda_nohash_6.wav  a293e285_nohash_0.wav   de3fe344_nohash_3.wav\n",
            "1c84a139_nohash_0.wav\t5f01c798_nohash_0.wav  a2cc5444_nohash_0.wav   de3fe344_nohash_4.wav\n",
            "1c84a139_nohash_1.wav\t5f01c798_nohash_1.wav  a2cc5444_nohash_1.wav   de89e2ca_nohash_0.wav\n",
            "1c84a139_nohash_2.wav\t5f1253e9_nohash_0.wav  a2cc5444_nohash_2.wav   de89e2ca_nohash_1.wav\n",
            "1c84a139_nohash_3.wav\t5f5eef60_nohash_0.wav  a2cc5444_nohash_3.wav   de89e2ca_nohash_2.wav\n",
            "1c84a139_nohash_4.wav\t5f5eef60_nohash_1.wav  a2d61879_nohash_0.wav   de89e2ca_nohash_3.wav\n",
            "1dc86f91_nohash_0.wav\t5f5eef60_nohash_2.wav  a4383927_nohash_0.wav   de89e2ca_nohash_4.wav\n",
            "1dc86f91_nohash_1.wav\t5f5eef60_nohash_3.wav  a4383927_nohash_1.wav   e0c782d5_nohash_0.wav\n",
            "1dc86f91_nohash_2.wav\t5f9cd2eb_nohash_0.wav  a489191a_nohash_0.wav   e0c782d5_nohash_1.wav\n",
            "1dc86f91_nohash_3.wav\t5f9cd2eb_nohash_1.wav  a489191a_nohash_1.wav   e0c782d5_nohash_2.wav\n",
            "1dc86f91_nohash_4.wav\t5f9cd2eb_nohash_2.wav  a489191a_nohash_2.wav   e11fbc6e_nohash_0.wav\n",
            "1e02ffc5_nohash_0.wav\t5f9cd2eb_nohash_3.wav  a489191a_nohash_3.wav   e11fbc6e_nohash_1.wav\n",
            "1e02ffc5_nohash_1.wav\t5f9cd2eb_nohash_4.wav  a55105d0_nohash_0.wav   e11fbc6e_nohash_2.wav\n",
            "1e02ffc5_nohash_2.wav\t5f9cd2eb_nohash_5.wav  a55105d0_nohash_1.wav   e11fbc6e_nohash_3.wav\n",
            "1e02ffc5_nohash_3.wav\t608473c9_nohash_0.wav  a55105d0_nohash_2.wav   e1acea44_nohash_0.wav\n",
            "1e02ffc5_nohash_4.wav\t608473c9_nohash_1.wav  a55105d0_nohash_3.wav   e2633cf5_nohash_0.wav\n",
            "1e9e6bdd_nohash_0.wav\t6124b431_nohash_0.wav  a55105d0_nohash_4.wav   e3e0f145_nohash_0.wav\n",
            "1e9e6bdd_nohash_1.wav\t6124b431_nohash_1.wav  a56859ea_nohash_0.wav   e3e0f145_nohash_1.wav\n",
            "1e9e6bdd_nohash_2.wav\t6124b431_nohash_2.wav  a56859ea_nohash_1.wav   e3e0f145_nohash_2.wav\n",
            "1e9e6bdd_nohash_3.wav\t6124b431_nohash_3.wav  a6f2fd71_nohash_0.wav   e3e0f145_nohash_3.wav\n",
            "1e9e6bdd_nohash_4.wav\t616420be_nohash_0.wav  a6f2fd71_nohash_1.wav   e3e0f145_nohash_4.wav\n",
            "1ed0b13d_nohash_0.wav\t616420be_nohash_1.wav  a6f2fd71_nohash_2.wav   e49428d9_nohash_0.wav\n",
            "1ed0b13d_nohash_1.wav\t616420be_nohash_2.wav  a6f2fd71_nohash_3.wav   e49428d9_nohash_1.wav\n",
            "1ed0b13d_nohash_2.wav\t616420be_nohash_3.wav  a6f2fd71_nohash_4.wav   e4be0cf6_nohash_0.wav\n",
            "1ed0b13d_nohash_3.wav\t616420be_nohash_4.wav  a7200079_nohash_0.wav   e4be0cf6_nohash_1.wav\n",
            "1ed0b13d_nohash_4.wav\t617aeb6c_nohash_0.wav  a7200079_nohash_1.wav   e4be0cf6_nohash_2.wav\n",
            "1f3e4139_nohash_0.wav\t617aeb6c_nohash_1.wav  a7200079_nohash_2.wav   e4be0cf6_nohash_3.wav\n",
            "2005ca25_nohash_0.wav\t617aeb6c_nohash_2.wav  a7200079_nohash_3.wav   e4be0cf6_nohash_4.wav\n",
            "20a0d54b_nohash_0.wav\t617aeb6c_nohash_3.wav  a7200079_nohash_4.wav   e6327279_nohash_0.wav\n",
            "211b928a_nohash_0.wav\t617aeb6c_nohash_4.wav  a7216980_nohash_0.wav   e6327279_nohash_1.wav\n",
            "211b928a_nohash_1.wav\t61ab8fbc_nohash_0.wav  a7216980_nohash_1.wav   e6327279_nohash_2.wav\n",
            "211b928a_nohash_2.wav\t61ab8fbc_nohash_1.wav  a7216980_nohash_2.wav   e6327279_nohash_3.wav\n",
            "211b928a_nohash_3.wav\t61ab8fbc_nohash_2.wav  a7216980_nohash_3.wav   e6327279_nohash_4.wav\n",
            "211b928a_nohash_4.wav\t61ab8fbc_nohash_3.wav  a7216980_nohash_4.wav   e71a9381_nohash_0.wav\n",
            "226537ab_nohash_0.wav\t61ab8fbc_nohash_4.wav  a73be046_nohash_0.wav   e71a9381_nohash_1.wav\n",
            "226537ab_nohash_1.wav\t61e2f74f_nohash_0.wav  a73be046_nohash_1.wav   e71a9381_nohash_2.wav\n",
            "226537ab_nohash_2.wav\t61e2f74f_nohash_1.wav  a77fbcfd_nohash_0.wav   e71a9381_nohash_3.wav\n",
            "226537ab_nohash_3.wav\t61e2f74f_nohash_2.wav  a77fbcfd_nohash_1.wav   e7bcee8a_nohash_0.wav\n",
            "234d6a48_nohash_0.wav\t61e2f74f_nohash_3.wav  a77fbcfd_nohash_2.wav   e882abb2_nohash_0.wav\n",
            "234d6a48_nohash_1.wav\t62ccd358_nohash_0.wav  a77fbcfd_nohash_3.wav   e882abb2_nohash_1.wav\n",
            "234d6a48_nohash_2.wav\t62ccd358_nohash_1.wav  a77fbcfd_nohash_4.wav   e882abb2_nohash_2.wav\n",
            "234d6a48_nohash_3.wav\t62f05757_nohash_0.wav  a7acbbeb_nohash_0.wav   e882abb2_nohash_3.wav\n",
            "2356b88d_nohash_0.wav\t62f05757_nohash_1.wav  a7acbbeb_nohash_1.wav   e882abb2_nohash_4.wav\n",
            "235b444f_nohash_0.wav\t62f05757_nohash_2.wav  a7acbbeb_nohash_2.wav   e9abfe31_nohash_0.wav\n",
            "235b444f_nohash_1.wav\t62f05757_nohash_3.wav  a928cc5b_nohash_0.wav   e9abfe31_nohash_1.wav\n",
            "235b444f_nohash_2.wav\t62f05757_nohash_4.wav  a928cc5b_nohash_1.wav   e9abfe31_nohash_2.wav\n",
            "235b444f_nohash_3.wav\t6379c6a2_nohash_0.wav  a929f9b9_nohash_0.wav   e9abfe31_nohash_3.wav\n",
            "236b6113_nohash_0.wav\t63ae15e4_nohash_0.wav  a929f9b9_nohash_1.wav   e9abfe31_nohash_4.wav\n",
            "23add12a_nohash_0.wav\t63ae15e4_nohash_1.wav  a929f9b9_nohash_2.wav   e9bc5cc2_nohash_0.wav\n",
            "23add12a_nohash_1.wav\t63f7a489_nohash_0.wav  a929f9b9_nohash_3.wav   e9bc5cc2_nohash_1.wav\n",
            "23da904f_nohash_0.wav\t63f7a489_nohash_1.wav  a929f9b9_nohash_4.wav   e9bc5cc2_nohash_2.wav\n",
            "23da904f_nohash_1.wav\t63f7a489_nohash_2.wav  a9ca1818_nohash_0.wav   ea0cf37f_nohash_0.wav\n",
            "23da904f_nohash_2.wav\t63f7a489_nohash_3.wav  a9ca1818_nohash_1.wav   eaa83485_nohash_0.wav\n",
            "23da904f_nohash_3.wav\t63f7a489_nohash_4.wav  a9ca1818_nohash_2.wav   eaa83485_nohash_1.wav\n",
            "23da904f_nohash_4.wav\t645ed69d_nohash_0.wav  a9ca1818_nohash_3.wav   eaa83485_nohash_2.wav\n",
            "244cc3a5_nohash_0.wav\t645ed69d_nohash_1.wav  a9ca1818_nohash_4.wav   eaa83485_nohash_3.wav\n",
            "24a3e589_nohash_0.wav\t645ed69d_nohash_2.wav  aa80f517_nohash_0.wav   ebdd0f59_nohash_0.wav\n",
            "24a3e589_nohash_1.wav\t645ed69d_nohash_3.wav  aa80f517_nohash_1.wav   ebdd0f59_nohash_1.wav\n",
            "24a3e589_nohash_2.wav\t645ed69d_nohash_4.wav  aa80f517_nohash_2.wav   ec32860c_nohash_0.wav\n",
            "24a3e589_nohash_3.wav\t64a80906_nohash_0.wav  aa80f517_nohash_3.wav   ec989d6d_nohash_0.wav\n",
            "24cab2cb_nohash_0.wav\t64a80906_nohash_1.wav  aa80f517_nohash_4.wav   ec989d6d_nohash_1.wav\n",
            "24cab2cb_nohash_1.wav\t64df20d8_nohash_0.wav  ab46af55_nohash_0.wav   ec989d6d_nohash_2.wav\n",
            "256c0a05_nohash_0.wav\t64df20d8_nohash_1.wav  ab46af55_nohash_1.wav   ec989d6d_nohash_3.wav\n",
            "256c0a05_nohash_1.wav\t64df20d8_nohash_2.wav  ab46af55_nohash_2.wav   ec989d6d_nohash_4.wav\n",
            "256c0a05_nohash_2.wav\t64e48f55_nohash_0.wav  ab46af55_nohash_3.wav   ec9b830b_nohash_0.wav\n",
            "256c0a05_nohash_3.wav\t64e48f55_nohash_1.wav  ab46af55_nohash_4.wav   ec9b830b_nohash_1.wav\n",
            "256c0a05_nohash_4.wav\t64e48f55_nohash_2.wav  ab9b93e4_nohash_0.wav   ed032775_nohash_0.wav\n",
            "25e95412_nohash_0.wav\t64e48f55_nohash_3.wav  ab9b93e4_nohash_1.wav   ed032775_nohash_1.wav\n",
            "25e95412_nohash_1.wav\t6565a81d_nohash_0.wav  ab9b93e4_nohash_2.wav   ed032775_nohash_2.wav\n",
            "25e95412_nohash_2.wav\t6565a81d_nohash_1.wav  ac9dee0e_nohash_0.wav   ed032775_nohash_3.wav\n",
            "25e95412_nohash_3.wav\t6565a81d_nohash_2.wav  ac9dee0e_nohash_1.wav   ed032775_nohash_4.wav\n",
            "25e95412_nohash_4.wav\t6565a81d_nohash_3.wav  ac9dee0e_nohash_2.wav   eda072b5_nohash_0.wav\n",
            "25e95412_nohash_5.wav\t6565a81d_nohash_4.wav  ac9dee0e_nohash_3.wav   ee1d8d49_nohash_0.wav\n",
            "262d7a03_nohash_0.wav\t6640fdc0_nohash_0.wav  ac9dee0e_nohash_4.wav   ee1d8d49_nohash_1.wav\n",
            "262d7a03_nohash_1.wav\t6640fdc0_nohash_1.wav  acb9db68_nohash_0.wav   ee1d8d49_nohash_2.wav\n",
            "2748cce7_nohash_0.wav\t66e8a4ec_nohash_0.wav  acb9db68_nohash_1.wav   ee1d8d49_nohash_3.wav\n",
            "2748cce7_nohash_1.wav\t674ca5ea_nohash_0.wav  ace072ba_nohash_0.wav   ee23b031_nohash_0.wav\n",
            "2748cce7_nohash_2.wav\t674ca5ea_nohash_1.wav  ace072ba_nohash_1.wav   eeaf97c3_nohash_0.wav\n",
            "27c24504_nohash_0.wav\t674ca5ea_nohash_2.wav  ace072ba_nohash_2.wav   eeaf97c3_nohash_1.wav\n",
            "27c24504_nohash_1.wav\t674ca5ea_nohash_3.wav  ace072ba_nohash_3.wav   eeaf97c3_nohash_2.wav\n",
            "27c24504_nohash_2.wav\t676f8138_nohash_0.wav  ace82a68_nohash_0.wav   eeaf97c3_nohash_3.wav\n",
            "29229c21_nohash_0.wav\t676f8138_nohash_1.wav  ace82a68_nohash_1.wav   eeaf97c3_nohash_4.wav\n",
            "29229c21_nohash_1.wav\t676f8138_nohash_2.wav  acfd5b5e_nohash_0.wav   ef3367d9_nohash_0.wav\n",
            "29229c21_nohash_2.wav\t676f8138_nohash_3.wav  acfd5b5e_nohash_1.wav   ef3367d9_nohash_1.wav\n",
            "29229c21_nohash_3.wav\t676f8138_nohash_4.wav  acfd5b5e_nohash_2.wav   ef3367d9_nohash_2.wav\n",
            "29229c21_nohash_4.wav\t679463fc_nohash_0.wav  acfd5b5e_nohash_3.wav   ef3367d9_nohash_3.wav\n",
            "2927c601_nohash_0.wav\t679463fc_nohash_1.wav  acfd5b5e_nohash_4.wav   ef3367d9_nohash_4.wav\n",
            "2927c601_nohash_1.wav\t679463fc_nohash_2.wav  ad526ada_nohash_0.wav   ef3367d9_nohash_5.wav\n",
            "2927c601_nohash_2.wav\t679463fc_nohash_3.wav  ad526ada_nohash_1.wav   ef3367d9_nohash_6.wav\n",
            "2927c601_nohash_3.wav\t67bdbf56_nohash_0.wav  ae32324a_nohash_0.wav   ef3367d9_nohash_7.wav\n",
            "2927c601_nohash_4.wav\t6969e51a_nohash_0.wav  ae5578f4_nohash_0.wav   ef77b778_nohash_0.wav\n",
            "29dce108_nohash_0.wav\t6969e51a_nohash_1.wav  af54ec46_nohash_0.wav   ef77b778_nohash_1.wav\n",
            "29dce108_nohash_1.wav\t6969e51a_nohash_2.wav  af6fbbf5_nohash_0.wav   ef77b778_nohash_2.wav\n",
            "29dce108_nohash_2.wav\t69a1a79f_nohash_0.wav  af6fbbf5_nohash_1.wav   ef77b778_nohash_3.wav\n",
            "29dce108_nohash_3.wav\t69a1a79f_nohash_1.wav  af6fbbf5_nohash_2.wav   ef77b778_nohash_4.wav\n",
            "2a1f4853_nohash_0.wav\t69a1a79f_nohash_2.wav  af790082_nohash_0.wav   f01a0d63_nohash_0.wav\n",
            "2a1f4853_nohash_1.wav\t69a1a79f_nohash_3.wav  af790082_nohash_1.wav   f01a0d63_nohash_1.wav\n",
            "2a1f4853_nohash_2.wav\t69a1a79f_nohash_4.wav  b089169d_nohash_0.wav   f01a0d63_nohash_2.wav\n",
            "2a1f4853_nohash_3.wav\t6aa8def4_nohash_0.wav  b0f5b16d_nohash_0.wav   f01a0d63_nohash_3.wav\n",
            "2a1f4853_nohash_4.wav\t6aa8def4_nohash_1.wav  b0f5b16d_nohash_1.wav   f01a0d63_nohash_4.wav\n",
            "2aca1e72_nohash_0.wav\t6aa8def4_nohash_2.wav  b0f5b16d_nohash_2.wav   f035e2ea_nohash_0.wav\n",
            "2aca1e72_nohash_10.wav\t6aa8def4_nohash_3.wav  b0f5b16d_nohash_3.wav   f035e2ea_nohash_1.wav\n",
            "2aca1e72_nohash_11.wav\t6aa8def4_nohash_4.wav  b0f5b16d_nohash_4.wav   f035e2ea_nohash_2.wav\n",
            "2aca1e72_nohash_12.wav\t6bf5baf3_nohash_0.wav  b29f8b23_nohash_0.wav   f035e2ea_nohash_3.wav\n",
            "2aca1e72_nohash_13.wav\t6bf5baf3_nohash_1.wav  b29f8b23_nohash_1.wav   f035e2ea_nohash_4.wav\n",
            "2aca1e72_nohash_1.wav\t6bf5baf3_nohash_2.wav  b29f8b23_nohash_2.wav   f035e2ea_nohash_5.wav\n",
            "2aca1e72_nohash_2.wav\t6bf5baf3_nohash_3.wav  b29f8b23_nohash_3.wav   f0522ff4_nohash_0.wav\n",
            "2aca1e72_nohash_3.wav\t6bf5baf3_nohash_4.wav  b2ae3928_nohash_0.wav   f0522ff4_nohash_1.wav\n",
            "2aca1e72_nohash_4.wav\t6c9a1ac2_nohash_0.wav  b2ae3928_nohash_1.wav   f0522ff4_nohash_2.wav\n",
            "2aca1e72_nohash_5.wav\t6ef407da_nohash_0.wav  b2ae3928_nohash_2.wav   f0522ff4_nohash_3.wav\n",
            "2aca1e72_nohash_6.wav\t6ef407da_nohash_1.wav  b308773d_nohash_0.wav   f0522ff4_nohash_4.wav\n",
            "2aca1e72_nohash_7.wav\t6ef407da_nohash_2.wav  b308773d_nohash_1.wav   f0659908_nohash_0.wav\n",
            "2aca1e72_nohash_8.wav\t6ef407da_nohash_3.wav  b308773d_nohash_2.wav   f0659908_nohash_1.wav\n",
            "2aca1e72_nohash_9.wav\t6ef407da_nohash_4.wav  b308773d_nohash_3.wav   f0659908_nohash_2.wav\n",
            "2b5e346d_nohash_0.wav\t6fb3d5a7_nohash_0.wav  b308773d_nohash_4.wav   f0659908_nohash_3.wav\n",
            "2b5e346d_nohash_1.wav\t6fb3d5a7_nohash_1.wav  b414c653_nohash_0.wav   f0659908_nohash_4.wav\n",
            "2b5e346d_nohash_2.wav\t6fb3d5a7_nohash_2.wav  b414c653_nohash_1.wav   f1d8a638_nohash_0.wav\n",
            "2e75d37a_nohash_0.wav\t6fb3d5a7_nohash_3.wav  b414c653_nohash_2.wav   f1d8a638_nohash_1.wav\n",
            "2e75d37a_nohash_1.wav\t6fb3d5a7_nohash_4.wav  b414c653_nohash_3.wav   f1d8a638_nohash_2.wav\n",
            "2e75d37a_nohash_2.wav\t70880cc6_nohash_0.wav  b44007bc_nohash_0.wav   f1eaff75_nohash_0.wav\n",
            "2e75d37a_nohash_3.wav\t70880cc6_nohash_1.wav  b44007bc_nohash_1.wav   f250345e_nohash_0.wav\n",
            "2f0ce4d9_nohash_0.wav\t70b0ccf4_nohash_0.wav  b4ea0d9a_nohash_0.wav   f2898d06_nohash_0.wav\n",
            "2f0ce4d9_nohash_1.wav\t7213ed54_nohash_0.wav  b4ea0d9a_nohash_1.wav   f2898d06_nohash_1.wav\n",
            "2f0ce4d9_nohash_2.wav\t7213ed54_nohash_1.wav  b4ea0d9a_nohash_2.wav   f2898d06_nohash_2.wav\n",
            "2fcb6397_nohash_0.wav\t7213ed54_nohash_2.wav  b4ea0d9a_nohash_3.wav   f2898d06_nohash_3.wav\n",
            "2fcb6397_nohash_1.wav\t7213ed54_nohash_3.wav  b4ea0d9a_nohash_4.wav   f2898d06_nohash_4.wav\n",
            "2fcb6397_nohash_2.wav\t7213ed54_nohash_4.wav  b528edb3_nohash_0.wav   f2e59fea_nohash_0.wav\n",
            "2fcb6397_nohash_3.wav\t72242187_nohash_0.wav  b528edb3_nohash_1.wav   f2e59fea_nohash_1.wav\n",
            "2fcb6397_nohash_4.wav\t72242187_nohash_1.wav  b528edb3_nohash_2.wav   f2e59fea_nohash_2.wav\n",
            "2fee065a_nohash_0.wav\t72242187_nohash_2.wav  b528edb3_nohash_3.wav   f2e59fea_nohash_3.wav\n",
            "2fee065a_nohash_1.wav\t72242187_nohash_3.wav  b528edb3_nohash_4.wav   f2e59fea_nohash_4.wav\n",
            "2fee065a_nohash_2.wav\t72242187_nohash_4.wav  b5cf6ea8_nohash_0.wav   f2e9b610_nohash_0.wav\n",
            "2fee065a_nohash_3.wav\t728be664_nohash_0.wav  b5cf6ea8_nohash_1.wav   f2e9b610_nohash_1.wav\n",
            "2fee065a_nohash_4.wav\t728be664_nohash_1.wav  b5cf6ea8_nohash_2.wav   f2e9b610_nohash_2.wav\n",
            "30060aba_nohash_0.wav\t72e382bd_nohash_0.wav  b5cf6ea8_nohash_3.wav   f2e9b610_nohash_3.wav\n",
            "30060aba_nohash_1.wav\t72e382bd_nohash_1.wav  b5cf6ea8_nohash_4.wav   f2e9b610_nohash_4.wav\n",
            "30276d03_nohash_0.wav\t72e382bd_nohash_2.wav  b5cf6ea8_nohash_5.wav   f2f0d244_nohash_0.wav\n",
            "30276d03_nohash_1.wav\t72e382bd_nohash_3.wav  b5cf6ea8_nohash_6.wav   f2f0d244_nohash_1.wav\n",
            "30276d03_nohash_2.wav\t72e382bd_nohash_4.wav  b5cf6ea8_nohash_7.wav   f2f0d244_nohash_2.wav\n",
            "30f6e665_nohash_0.wav\t73f20b00_nohash_0.wav  b5cf6ea8_nohash_8.wav   f2f0d244_nohash_3.wav\n",
            "3102f006_nohash_0.wav\t73f20b00_nohash_1.wav  b5cf6ea8_nohash_9.wav   f30285c8_nohash_0.wav\n",
            "3102f006_nohash_1.wav\t73f20b00_nohash_2.wav  b5eb4f9b_nohash_0.wav   f30285c8_nohash_1.wav\n",
            "3102f006_nohash_2.wav\t73f20b00_nohash_3.wav  b6573c88_nohash_0.wav   f30285c8_nohash_2.wav\n",
            "3102f006_nohash_3.wav\t73f20b00_nohash_4.wav  b6573c88_nohash_1.wav   f30285c8_nohash_3.wav\n",
            "3108acca_nohash_0.wav\t74241b28_nohash_0.wav  b69002d4_nohash_0.wav   f30285c8_nohash_4.wav\n",
            "3108acca_nohash_1.wav\t74241b28_nohash_1.wav  b69002d4_nohash_1.wav   f5341341_nohash_0.wav\n",
            "3108acca_nohash_2.wav\t74241b28_nohash_2.wav  b69002d4_nohash_2.wav   f5341341_nohash_1.wav\n",
            "3108acca_nohash_3.wav\t74241b28_nohash_3.wav  b69002d4_nohash_3.wav   f5341341_nohash_2.wav\n",
            "312b96ec_nohash_0.wav\t74241b28_nohash_4.wav  b69002d4_nohash_4.wav   f5626af6_nohash_0.wav\n",
            "31db232b_nohash_0.wav\t7464b22e_nohash_0.wav  b69fe0e2_nohash_0.wav   f5626af6_nohash_1.wav\n",
            "31db232b_nohash_1.wav\t7622d95b_nohash_0.wav  b69fe0e2_nohash_1.wav   f5626af6_nohash_2.wav\n",
            "31f01a8d_nohash_0.wav\t7622d95b_nohash_1.wav  b69fe0e2_nohash_2.wav   f5626af6_nohash_3.wav\n",
            "31f01a8d_nohash_1.wav\t7622d95b_nohash_2.wav  b69fe0e2_nohash_3.wav   f568162b_nohash_0.wav\n",
            "31f01a8d_nohash_2.wav\t773e26f7_nohash_0.wav  b69fe0e2_nohash_4.wav   f568162b_nohash_1.wav\n",
            "31f01a8d_nohash_3.wav\t773e26f7_nohash_1.wav  b76f6088_nohash_0.wav   f603e3f9_nohash_0.wav\n",
            "322d17d3_nohash_0.wav\t773e26f7_nohash_2.wav  b76f6088_nohash_1.wav   f68160c0_nohash_0.wav\n",
            "322d17d3_nohash_1.wav\t773e26f7_nohash_3.wav  b76f6088_nohash_2.wav   f68160c0_nohash_1.wav\n",
            "322d17d3_nohash_2.wav\t773e26f7_nohash_4.wav  b76f6088_nohash_3.wav   f68160c0_nohash_2.wav\n",
            "322d17d3_nohash_3.wav\t779de043_nohash_0.wav  b8874962_nohash_0.wav   f68160c0_nohash_3.wav\n",
            "3291330e_nohash_0.wav\t779de043_nohash_1.wav  b8874962_nohash_1.wav   f68160c0_nohash_4.wav\n",
            "3291330e_nohash_1.wav\t779de043_nohash_2.wav  b8874962_nohash_2.wav   f736ab63_nohash_0.wav\n",
            "3291330e_nohash_2.wav\t779de043_nohash_3.wav  b8874962_nohash_3.wav   f736ab63_nohash_1.wav\n",
            "3291330e_nohash_3.wav\t779de043_nohash_4.wav  b8874962_nohash_4.wav   f736ab63_nohash_2.wav\n",
            "3291330e_nohash_4.wav\t79903546_nohash_0.wav  b91b718c_nohash_0.wav   f736ab63_nohash_3.wav\n",
            "32ad5b65_nohash_0.wav\t79903546_nohash_1.wav  b91b718c_nohash_1.wav   f736ab63_nohash_4.wav\n",
            "32ad5b65_nohash_1.wav\t79b37d3a_nohash_0.wav  b91b718c_nohash_2.wav   f798ac78_nohash_0.wav\n",
            "32ad5b65_nohash_2.wav\t7a49163e_nohash_0.wav  b91b718c_nohash_3.wav   f798ac78_nohash_1.wav\n",
            "32ad5b65_nohash_3.wav\t7a49163e_nohash_1.wav  bb05582b_nohash_0.wav   f798ac78_nohash_2.wav\n",
            "32ad5b65_nohash_4.wav\t7c83c5f6_nohash_0.wav  bb05582b_nohash_1.wav   f798ac78_nohash_3.wav\n",
            "332d33b1_nohash_0.wav\t7c83c5f6_nohash_1.wav  bb05582b_nohash_2.wav   f798ac78_nohash_4.wav\n",
            "332d33b1_nohash_1.wav\t7c83c5f6_nohash_2.wav  bb05582b_nohash_3.wav   f822b9bf_nohash_0.wav\n",
            "332d33b1_nohash_2.wav\t7c83c5f6_nohash_3.wav  bb05582b_nohash_4.wav   f822b9bf_nohash_1.wav\n",
            "332d33b1_nohash_3.wav\t7c83c5f6_nohash_4.wav  bb6d4301_nohash_0.wav   f822b9bf_nohash_2.wav\n",
            "333d7ddb_nohash_0.wav\t7c86c03e_nohash_0.wav  bb6d4301_nohash_1.wav   f822b9bf_nohash_3.wav\n",
            "333d7ddb_nohash_1.wav\t7c86c03e_nohash_1.wav  bb6d4301_nohash_2.wav   f822b9bf_nohash_4.wav\n",
            "333d7ddb_nohash_2.wav\t7ce8df21_nohash_0.wav  bb6d4301_nohash_3.wav   f8ba7c0e_nohash_0.wav\n",
            "333d7ddb_nohash_3.wav\t7d4beb11_nohash_0.wav  bb6d4301_nohash_4.wav   f8ba7c0e_nohash_1.wav\n",
            "333d7ddb_nohash_4.wav\t7d6b4b10_nohash_0.wav  bbc30633_nohash_0.wav   f8ba7c0e_nohash_2.wav\n",
            "339f2c5c_nohash_0.wav\t7d6b4b10_nohash_1.wav  bbc30633_nohash_1.wav   f8ba7c0e_nohash_3.wav\n",
            "3589bc72_nohash_0.wav\t7d6b4b10_nohash_2.wav  bbc30633_nohash_2.wav   f8ba7c0e_nohash_4.wav\n",
            "3589bc72_nohash_1.wav\t7d6b4b10_nohash_3.wav  bbc30633_nohash_3.wav   f9643d42_nohash_0.wav\n",
            "3589bc72_nohash_2.wav\t7d6b4b10_nohash_4.wav  bbf38549_nohash_0.wav   f9643d42_nohash_1.wav\n",
            "3589bc72_nohash_3.wav\t7e7ca854_nohash_0.wav  bbf38549_nohash_1.wav   f9643d42_nohash_2.wav\n",
            "365908bd_nohash_0.wav\t7e7ca854_nohash_1.wav  bbf38549_nohash_2.wav   f9643d42_nohash_3.wav\n",
            "365908bd_nohash_1.wav\t7e7ca854_nohash_2.wav  bbf38549_nohash_3.wav   f9643d42_nohash_4.wav\n",
            "365908bd_nohash_2.wav\t7e7ca854_nohash_3.wav  bbf38549_nohash_4.wav   fa52ddf6_nohash_0.wav\n",
            "365908bd_nohash_3.wav\t7e7ca854_nohash_4.wav  bc999754_nohash_0.wav   fa52ddf6_nohash_1.wav\n",
            "3659fc1c_nohash_0.wav\t7f208e83_nohash_0.wav  bcf614a2_nohash_0.wav   fa52ddf6_nohash_2.wav\n",
            "368bedd4_nohash_0.wav\t7f208e83_nohash_1.wav  bcf614a2_nohash_1.wav   fa52ddf6_nohash_3.wav\n",
            "39833acb_nohash_0.wav\t7f581e94_nohash_0.wav  bcf614a2_nohash_2.wav   fa52ddf6_nohash_4.wav\n",
            "39833acb_nohash_1.wav\t7f9eb952_nohash_0.wav  bcf614a2_nohash_3.wav   fa57ab3b_nohash_0.wav\n",
            "39833acb_nohash_2.wav\t7f9eb952_nohash_1.wav  bcf614a2_nohash_4.wav   fa57ab3b_nohash_1.wav\n",
            "39833acb_nohash_3.wav\t7fb8d703_nohash_0.wav  bd76a7fd_nohash_0.wav   fa57ab3b_nohash_2.wav\n",
            "39833acb_nohash_4.wav\t7fb8d703_nohash_1.wav  bd76a7fd_nohash_1.wav   fa57ab3b_nohash_3.wav\n",
            "39b5fdab_nohash_0.wav\t7fb8d703_nohash_2.wav  bd76a7fd_nohash_2.wav   fa57ab3b_nohash_4.wav\n",
            "3a3ee7ed_nohash_0.wav\t7fb8d703_nohash_3.wav  bd76a7fd_nohash_3.wav   fb7008b0_nohash_0.wav\n",
            "3a3ee7ed_nohash_1.wav\t7fb8d703_nohash_4.wav  bd76a7fd_nohash_4.wav   fb7008b0_nohash_1.wav\n",
            "3a3ee7ed_nohash_2.wav\t80768fa5_nohash_0.wav  bd76a7fd_nohash_5.wav   fb7eb481_nohash_0.wav\n",
            "3a3ee7ed_nohash_3.wav\t80be36a2_nohash_0.wav  bd76a7fd_nohash_6.wav   fb7eb481_nohash_1.wav\n",
            "3a3ee7ed_nohash_4.wav\t81332c92_nohash_0.wav  bdd22e4d_nohash_0.wav   fb7eb481_nohash_2.wav\n",
            "3a53b856_nohash_0.wav\t81332c92_nohash_1.wav  bdd22e4d_nohash_1.wav   fb7eb481_nohash_3.wav\n",
            "3a53b856_nohash_1.wav\t81332c92_nohash_2.wav  bdd22e4d_nohash_2.wav   fb7eb481_nohash_4.wav\n",
            "3a69f765_nohash_0.wav\t81332c92_nohash_3.wav  bdd22e4d_nohash_3.wav   fb8c31a9_nohash_0.wav\n",
            "3a69f765_nohash_1.wav\t81332c92_nohash_4.wav  bdd22e4d_nohash_4.wav   fb8c31a9_nohash_1.wav\n",
            "3a69f765_nohash_2.wav\t821b64cc_nohash_0.wav  bde0f20a_nohash_0.wav   fb8c31a9_nohash_2.wav\n",
            "3a69f765_nohash_3.wav\t821b64cc_nohash_1.wav  bde0f20a_nohash_1.wav   fb8c31a9_nohash_3.wav\n",
            "3a69f765_nohash_4.wav\t821b64cc_nohash_2.wav  bde0f20a_nohash_2.wav   fb8c31a9_nohash_4.wav\n",
            "3a929277_nohash_0.wav\t821b64cc_nohash_3.wav  bde0f20a_nohash_3.wav   fbb2f6cc_nohash_0.wav\n",
            "3a929277_nohash_1.wav\t821b64cc_nohash_4.wav  bde0f20a_nohash_4.wav   fbb2f6cc_nohash_1.wav\n",
            "3a929277_nohash_2.wav\t82951cf0_nohash_0.wav  be0f2293_nohash_0.wav   fbb2f6cc_nohash_2.wav\n",
            "3a929277_nohash_3.wav\t833d9f56_nohash_0.wav  beb458a4_nohash_0.wav   fbb2f6cc_nohash_3.wav\n",
            "3b195250_nohash_0.wav\t833d9f56_nohash_1.wav  beb458a4_nohash_1.wav   fbb56351_nohash_0.wav\n",
            "3b195250_nohash_1.wav\t833d9f56_nohash_2.wav  beb458a4_nohash_2.wav   fbb56351_nohash_1.wav\n",
            "3b195250_nohash_2.wav\t833d9f56_nohash_3.wav  beb458a4_nohash_3.wav   fbb56351_nohash_2.wav\n",
            "3b195250_nohash_3.wav\t833d9f56_nohash_4.wav  beb458a4_nohash_4.wav   fbb56351_nohash_3.wav\n",
            "3b195250_nohash_4.wav\t837a0f64_nohash_0.wav  bfd26d6b_nohash_0.wav   fbb56351_nohash_4.wav\n",
            "3b3d2f59_nohash_0.wav\t837a0f64_nohash_1.wav  bfd26d6b_nohash_1.wav   fc3ba625_nohash_0.wav\n",
            "3b3d2f59_nohash_1.wav\t837a0f64_nohash_2.wav  bfd26d6b_nohash_2.wav   fc3ba625_nohash_1.wav\n",
            "3b3d2f59_nohash_2.wav\t845f8553_nohash_0.wav  bfd26d6b_nohash_3.wav   fc3ba625_nohash_2.wav\n",
            "3b3d2f59_nohash_3.wav\t845f8553_nohash_1.wav  c0cb43d6_nohash_0.wav   fc3ba625_nohash_3.wav\n",
            "3b3d2f59_nohash_4.wav\t845f8553_nohash_2.wav  c0cb43d6_nohash_1.wav   fc3ba625_nohash_4.wav\n",
            "3b3d2f59_nohash_5.wav\t845f8553_nohash_3.wav  c0e3ff37_nohash_0.wav   fd5ccd39_nohash_0.wav\n",
            "3b4f8f24_nohash_0.wav\t856eb138_nohash_0.wav  c0e3ff37_nohash_1.wav   fd5ccd39_nohash_1.wav\n",
            "3b4f8f24_nohash_1.wav\t856eb138_nohash_1.wav  c1cc6e95_nohash_0.wav   fd5ccd39_nohash_2.wav\n",
            "3b4f8f24_nohash_2.wav\t856eb138_nohash_2.wav  c2657ba5_nohash_0.wav   fd5ccd39_nohash_3.wav\n",
            "3b4f8f24_nohash_3.wav\t856eb138_nohash_3.wav  c2657ba5_nohash_1.wav   fd5ccd39_nohash_4.wav\n",
            "3b4f8f24_nohash_4.wav\t856eb138_nohash_4.wav  c2dccf38_nohash_0.wav   fd9c7413_nohash_0.wav\n",
            "3bb68054_nohash_0.wav\t85851131_nohash_0.wav  c2dccf38_nohash_1.wav   fd9c7413_nohash_1.wav\n",
            "3bb68054_nohash_1.wav\t85851131_nohash_1.wav  c2dccf38_nohash_2.wav   ff0e27c3_nohash_0.wav\n",
            "3bb68054_nohash_2.wav\t85851131_nohash_2.wav  c351e611_nohash_0.wav   ff0e27c3_nohash_1.wav\n",
            "3bb68054_nohash_3.wav\t85851131_nohash_3.wav  c351e611_nohash_1.wav   ff2b842e_nohash_0.wav\n",
            "3c4aa5ef_nohash_0.wav\t85851131_nohash_4.wav  c351e611_nohash_2.wav   ff2b842e_nohash_1.wav\n",
            "3c4aa5ef_nohash_1.wav\t85ac0c1b_nohash_0.wav  c351e611_nohash_3.wav   ff2b842e_nohash_2.wav\n",
            "3c4aa5ef_nohash_2.wav\t85c60942_nohash_0.wav  c351e611_nohash_4.wav   ff2b842e_nohash_3.wav\n",
            "3c4aa5ef_nohash_3.wav\t85d2ac4b_nohash_0.wav  c41d9052_nohash_0.wav   ff2b842e_nohash_4.wav\n",
            "3c4aa5ef_nohash_4.wav\t85d2ac4b_nohash_1.wav  c4e00ee9_nohash_0.wav   ff4ed4f3_nohash_0.wav\n",
            "3cc595de_nohash_0.wav\t86f3558f_nohash_0.wav  c4e00ee9_nohash_1.wav   ff4ed4f3_nohash_1.wav\n",
            "3cc595de_nohash_1.wav\t87070229_nohash_0.wav  c4e00ee9_nohash_2.wav   ff4ed4f3_nohash_2.wav\n",
            "3cc595de_nohash_2.wav\t87070229_nohash_1.wav  c50f55b8_nohash_0.wav   ff4ed4f3_nohash_3.wav\n",
            "3cc595de_nohash_3.wav\t87070229_nohash_2.wav  c50f55b8_nohash_10.wav  ffea4a57_nohash_0.wav\n"
          ]
        }
      ]
    },
    {
      "cell_type": "code",
      "source": [
        "# Define the path to a specific audio file from the GSC dataset\n",
        "audio_file = '0165e0e8_nohash_0.wav'\n",
        "audio_path = f'/content/gsc_data/backward/{audio_file}'\n",
        "\n",
        "# Load the audio file\n",
        "waveform, sample_rate = torchaudio.load(audio_path)\n",
        "print(waveform.shape)"
      ],
      "metadata": {
        "colab": {
          "base_uri": "https://localhost:8080/"
        },
        "id": "kbXKGW-boySQ",
        "outputId": "1e0c6e72-863d-48a7-f57a-5f4b90aef3ed"
      },
      "execution_count": 18,
      "outputs": [
        {
          "output_type": "stream",
          "name": "stdout",
          "text": [
            "torch.Size([1, 16000])\n"
          ]
        }
      ]
    },
    {
      "cell_type": "code",
      "source": [
        "s2s = S2S()\n",
        "label = torch.tensor([1])\n",
        "batch = [(waveform, label)]"
      ],
      "metadata": {
        "id": "KludjqqUo7CL"
      },
      "execution_count": 11,
      "outputs": []
    },
    {
      "cell_type": "code",
      "source": [
        "spike_trains = s2s(batch)\n"
      ],
      "metadata": {
        "id": "Xp6LjKBopysD"
      },
      "execution_count": 12,
      "outputs": []
    },
    {
      "cell_type": "code",
      "source": [
        "print(type(spike_trains))"
      ],
      "metadata": {
        "colab": {
          "base_uri": "https://localhost:8080/"
        },
        "id": "j9w5524ap3Cj",
        "outputId": "9f98ce2f-1d1c-43be-e41f-38a3aeab25ae"
      },
      "execution_count": 13,
      "outputs": [
        {
          "output_type": "stream",
          "name": "stdout",
          "text": [
            "<class 'tuple'>\n"
          ]
        }
      ]
    },
    {
      "cell_type": "code",
      "source": [
        "spike_trains[0]"
      ],
      "metadata": {
        "colab": {
          "base_uri": "https://localhost:8080/"
        },
        "id": "NuNVFKvMuMKK",
        "outputId": "70106231-3318-44cb-b713-8fafb1b54ddc"
      },
      "execution_count": 14,
      "outputs": [
        {
          "output_type": "execute_result",
          "data": {
            "text/plain": [
              "tensor([[[[ 0.,  0.,  0.,  ...,  0.,  0.,  0.],\n",
              "          [ 0.,  0.,  0.,  ...,  0.,  0.,  0.],\n",
              "          [ 0.,  0.,  0.,  ...,  0.,  0., -1.],\n",
              "          ...,\n",
              "          [ 0.,  0.,  0.,  ...,  0.,  0.,  0.],\n",
              "          [ 0.,  0.,  0.,  ..., -1.,  0.,  0.],\n",
              "          [ 0.,  0.,  0.,  ...,  0.,  0.,  0.]]]])"
            ]
          },
          "metadata": {},
          "execution_count": 14
        }
      ]
    },
    {
      "cell_type": "code",
      "source": [
        "import matplotlib.pyplot as plt\n",
        "import torchaudio\n",
        "\n",
        "\n",
        "waveform, sample_rate = torchaudio.load(audio_path)\n",
        "\n",
        "# Plotting the waveform\n",
        "plt.figure(figsize=(12, 4))\n",
        "plt.plot(waveform.t().numpy())\n",
        "plt.title('Waveform')\n",
        "plt.ylabel('Amplitude')\n",
        "plt.xlabel('Time-steps')\n",
        "plt.show()"
      ],
      "metadata": {
        "colab": {
          "base_uri": "https://localhost:8080/",
          "height": 410
        },
        "id": "uDHjfnxPuPxR",
        "outputId": "47e275de-42fe-4d51-e465-eeee4f127134"
      },
      "execution_count": 15,
      "outputs": [
        {
          "output_type": "display_data",
          "data": {
            "text/plain": [
              "<Figure size 1200x400 with 1 Axes>"
            ],
            "image/png": "[encoded data removed]"
          },
          "metadata": {}
        }
      ]
    },
    {
      "cell_type": "code",
      "source": [
        "import matplotlib.pyplot as plt\n",
        "import numpy as np\n",
        "\n",
        "\n",
        "spikes, targets = spike_trains\n",
        "\n",
        "# Convert the spikes to a numpy array\n",
        "spikes_np = spikes.numpy()\n",
        "\n",
        "\n",
        "# This reduces the (1, 1, 20, 201) array to a (20, 201) array, batch and channel dimensions are not needed\n",
        "squeezed_spikes = spikes_np.squeeze()\n",
        "\n",
        "# Plotting\n",
        "plt.figure(figsize=(15, 10))\n",
        "\n",
        "# Iterate over each neuron's spike train (3rd dimension)\n",
        "for i, neuron_spikes in enumerate(squeezed_spikes):\n",
        "    # Time steps are the same for all neurons, so it's just a range of the length of the time dimension\n",
        "    time_steps = np.arange(neuron_spikes.shape[-1])  # or simply use 201 here\n",
        "\n",
        "    # Find the indices (timesteps) where there are spikes\n",
        "    spike_indices = np.where(neuron_spikes > 0)[0]  # Get the indices of spikes\n",
        "\n",
        "    # Plot spikes for this neuron. Adjusting 'i' so each neuron's spikes are plotted on a separate line.\n",
        "    plt.scatter(spike_indices, np.full_like(spike_indices, i), label=f'Neuron {i}', s=1)\n",
        "\n",
        "# Enhance plot\n",
        "plt.title('Spike Trains for Each Neuron')\n",
        "plt.xlabel('Time Step')\n",
        "plt.ylabel('Neuron Index')\n",
        "plt.yticks(np.arange(squeezed_spikes.shape[0]))  # Set y-ticks to be each neuron\n",
        "plt.show()\n"
      ],
      "metadata": {
        "colab": {
          "base_uri": "https://localhost:8080/",
          "height": 872
        },
        "id": "jKRP-9PIuxTG",
        "outputId": "8cea906c-8d02-4ade-848c-b38818e2c326"
      },
      "execution_count": 16,
      "outputs": [
        {
          "output_type": "display_data",
          "data": {
            "text/plain": [
              "<Figure size 1500x1000 with 1 Axes>"
            ],
            "image/png": "[encoded data removed]"
          },
          "metadata": {}
        }
      ]
    },
    {
      "cell_type": "code",
      "source": [],
      "metadata": {
        "id": "hL2D1FiVux3R"
      },
      "execution_count": null,
      "outputs": []
    }
  ]
}